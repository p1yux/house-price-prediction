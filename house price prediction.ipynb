{
 "cells": [
  {
   "cell_type": "code",
   "execution_count": 1,
   "metadata": {},
   "outputs": [],
   "source": [
    "import pandas as pd\n",
    "import numpy as np\n",
    "import matplotlib.pyplot as plt\n",
    "from sklearn.linear_model import LinearRegression"
   ]
  },
  {
   "cell_type": "code",
   "execution_count": null,
   "metadata": {},
   "outputs": [],
   "source": [
    "train = pd.read_csv(\"train.csv\")\n",
    "test = pd.read_csv(\"test.csv\")\n",
    "\n",
    "data = pd.concat([train, test], sort=False)\n",
    "\n",
    "data"
   ]
  },
  {
   "cell_type": "code",
   "execution_count": null,
   "metadata": {},
   "outputs": [],
   "source": [
    "#Plot features with more than 1000 null values\n",
    "\n",
    "features =[]\n",
    "nullValues =[]\n",
    "for i in data:\n",
    "    if (data.isna().sum()[i])>1000 and i!='SalePrice':\n",
    "        features.append(i)\n",
    "        nullValues.append(data.isna().sum()[i])\n",
    "y_pos = np.arange(len(features))\n",
    "plt.bar(y_pos, nullValues, align='center' , alpha=0.5)\n",
    "plt.xticks(y_pos, features)\n",
    "plt.ylabel('NULL values')\n",
    "plt.xlabel('Features')\n",
    "plt.title('Features with more than 1000 NULL values')\n",
    "plt.show()"
   ]
  },
  {
   "cell_type": "code",
   "execution_count": null,
   "metadata": {},
   "outputs": [],
   "source": [
    "\n",
    "# Drop columns that contain more than 1000 NULL values\n",
    "data = data.dropna(axis=1, thresh=1000)\n",
    "\n",
    "# Fill only the numeric columns' NULL values with their mean\n",
    "numeric_cols = data.select_dtypes(include=[np.number]).columns\n",
    "data.loc[:, numeric_cols] = data[numeric_cols].fillna(data[numeric_cols].mean())\n",
    "\n",
    "data\n",
    "\n"
   ]
  },
  {
   "cell_type": "code",
   "execution_count": 5,
   "metadata": {},
   "outputs": [],
   "source": [
    "#Dealing with NULL values\n",
    "data = pd.get_dummies(data) #Convert string values to integer values"
   ]
  },
  {
   "cell_type": "code",
   "execution_count": 6,
   "metadata": {},
   "outputs": [],
   "source": [
    "#Drop features that are correlated to each other\n",
    "covarianceMatrix = data.corr()\n",
    "listOfFeatures = [i for i in covarianceMatrix]\n",
    "setOfDroppedFeatures = set()\n",
    "for i in range(len(listOfFeatures)) :\n",
    "    for j in range(i+1, len(listOfFeatures)):\n",
    "        feature1=listOfFeatures [i]\n",
    "        feature2=listOfFeatures [j]\n",
    "        if abs (covarianceMatrix[feature1 ] [ feature2]) > 0.8: #If the correlation between the features is > 0.8\n",
    "            setOfDroppedFeatures. add (feature1)\n",
    "#I tried different values of threshold and 0.8 was the one that gave the best results\n",
    "data = data.drop(setOfDroppedFeatures, axis=1)\n"
   ]
  },
  {
   "cell_type": "code",
   "execution_count": 7,
   "metadata": {},
   "outputs": [],
   "source": [
    "#Drop features that are not correlated with output\n",
    "nonCorrelatedWithOutput = [column for column in data if abs(data[column] . corr(data[\"SalePrice\"]) ) < 0.045]\n",
    "#I tried different values of threshold and 0.045 was the one that gave the best results\n",
    "data = data.drop(nonCorrelatedWithOutput, axis=1)"
   ]
  },
  {
   "cell_type": "code",
   "execution_count": null,
   "metadata": {},
   "outputs": [],
   "source": [
    "#Plot one of the features with outliers\n",
    "plt.plot(data['LotArea'], data['SalePrice'], 'bo')\n",
    "plt.axvline(x=75000, color='r')\n",
    "plt.ylabel('SalePrice')\n",
    "plt.xlabel('LotArea')\n",
    "plt. title('SalePrice in function of LotArea')\n",
    "plt.show()"
   ]
  },
  {
   "cell_type": "code",
   "execution_count": null,
   "metadata": {},
   "outputs": [],
   "source": [
    "\n",
    "newTrain = data.iloc[:1460]\n",
    "newTest = data.iloc[1460:]\n",
    "\n",
    "\n",
    "def outliers_iqr(ys):\n",
    "    quartile_1, quartile_3 = np.percentile(ys, [25, 75])  \n",
    "    iqr = quartile_3 - quartile_1\n",
    "    lower_bound = quartile_1 - (iqr * 1.5)  \n",
    "    upper_bound = quartile_3 + (iqr * 1.5)  \n",
    "    return np.where((ys > upper_bound) | (ys < lower_bound)) \n",
    "\n",
    "\n",
    "trainWithoutOutliers = newTrain.copy()  \n",
    "numeric_columns = newTrain.select_dtypes(include=[np.number]).columns  \n",
    "\n",
    "for column in numeric_columns:\n",
    "    outlierIndices = outliers_iqr(newTrain[column])[0]  \n",
    "    outlierValuesList = np.ndarray.tolist(outlierIndices)  \n",
    "    \n",
    "    \n",
    "    trainWithoutOutliers = trainWithoutOutliers.drop(outlierValuesList, axis=0, errors='ignore')\n",
    "\n",
    "\n",
    "trainWithoutOutliers\n",
    "\n"
   ]
  },
  {
   "cell_type": "code",
   "execution_count": 10,
   "metadata": {},
   "outputs": [],
   "source": [
    "X = trainWithoutOutliers.drop(\"SalePrice\",axis=1) \n",
    "Y = np.log1p(trainWithoutOutliers[\"SalePrice\"]) #Get SalePrice column {log1p(x) = log(x+1)}\n",
    "reg = LinearRegression().fit(X, Y)"
   ]
  },
  {
   "cell_type": "code",
   "execution_count": null,
   "metadata": {},
   "outputs": [],
   "source": [
    "\n",
    "# Check if \"SalePrice\" exists before dropping\n",
    "\n",
    "\n",
    "if \"SalePrice\" in newTest.columns:\n",
    "    newTest = newTest.drop(\"SalePrice\", axis=1) \n",
    "\n",
    "pred = np.expm1(reg.predict(newTest))\n",
    "\n",
    "\n",
    "sub = pd.DataFrame()  \n",
    "sub['Id'] = test['Id']  \n",
    "sub['SalePrice'] = pred  \n",
    "sub.to_csv(\"submission.csv\", index=False)  \n",
    "\n",
    "sub"
   ]
  }
 ],
 "metadata": {
  "kernelspec": {
   "display_name": "Python 3",
   "language": "python",
   "name": "python3"
  },
  "language_info": {
   "codemirror_mode": {
    "name": "ipython",
    "version": 3
   },
   "file_extension": ".py",
   "mimetype": "text/x-python",
   "name": "python",
   "nbconvert_exporter": "python",
   "pygments_lexer": "ipython3",
   "version": "3.12.4"
  }
 },
 "nbformat": 4,
 "nbformat_minor": 2
}
